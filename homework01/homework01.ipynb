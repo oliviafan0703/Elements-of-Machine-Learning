{
 "cells": [
  {
   "cell_type": "markdown",
   "metadata": {
    "tags": [
     "AST"
    ]
   },
   "source": [
    "<style>\n",
    "    @media print{\n",
    "        body {\n",
    "            position:relative !important;\n",
    "        }\n",
    "        .celltag_new_page {\n",
    "            page-break-before: always !important;\n",
    "        }\n",
    "    }\n",
    "</style>\n",
    "# COMPSCI 371D Homework 1"
   ]
  },
  {
   "cell_type": "markdown",
   "metadata": {},
   "source": [
    "Olivia Fan, Frankie Willard, Sam Carpenter"
   ]
  },
  {
   "cell_type": "markdown",
   "metadata": {
    "tags": [
     "AT"
    ]
   },
   "source": [
    "### Problem 0 (3 points)"
   ]
  },
  {
   "cell_type": "markdown",
   "metadata": {
    "tags": [
     "AST"
    ]
   },
   "source": [
    "## Part 1: Sets and Functions "
   ]
  },
  {
   "cell_type": "markdown",
   "metadata": {
    "tags": [
     "AST"
    ]
   },
   "source": [
    "### Problem 1.1 (Exam Style)"
   ]
  },
  {
   "cell_type": "markdown",
   "metadata": {
    "tags": [
     "AT"
    ]
   },
   "source": [
    "$$\n",
    "\\begin{array}{|c|c|c|c|c|c|c|c|}\n",
    "\t\\hline\n",
    "\t\\mbox{Domain} & \\mbox{Codomain} & \\mbox{Map} & \\mbox{Function?} & \\mbox{Injection?} & \\mbox{Surjection?} & \\mbox{Bijection?}\n",
    "\t& \\mbox{None of these} \\\\\\hline\n",
    "\t\\{1, 2\\} & \\{a, b\\} & \\{(1, a), (1, b)\\} & & & & & yes \\\\\\hline\n",
    "\t\\{1, 2\\} & \\{a, b\\} & \\{(1, a), (2, a)\\} & yes & & & & \\\\\\hline\n",
    "\t\\{1, 2\\} & \\{a, b\\} & \\{(1, b), (2, a)\\} & yes & yes & yes & yes & \\\\\\hline\n",
    "\t\\{1, 2\\} & \\{a, b, c\\} & \\{(2, a), (1, c)\\} & yes & yes & & & \\\\\\hline\n",
    "\t\\{1, 2\\} & \\{b\\} & \\{(1, b), (2, b)\\} & yes & & yes & & \\\\\\hline\n",
    "\\end{array}\n",
    "$$"
   ]
  },
  {
   "cell_type": "markdown",
   "metadata": {
    "tags": [
     "AST"
    ]
   },
   "source": [
    "### Problem 1.2 (Exam Style)"
   ]
  },
  {
   "cell_type": "markdown",
   "metadata": {},
   "source": [
    "Every individual value in A has $2^b$ distinct possibilities it can map to; for each element in $B$, it can either map to the element or not. Since there are $a$ elements present, and the empty map should not be counted, there are $2^{ab}-1$ possible maps.\n",
    "\n",
    "$$ n(a,b) = {ab \\choose 1 }+  {ab \\choose 2} +  {ab \\choose 3} + ...+  {ab \\choose ab-1} + {ab \\choose ab} \\\\\n",
    "= 2^{ab}-1 $$\n",
    "Numerical examples:\n",
    "$$ n(3,3) = 2^9 -1 = 511 \\\\\n",
    "n(2,4) = 2^8 -1 = 255 \\\\\n",
    "n(5,3) = 2^15 - 1 = 32,767 $$"
   ]
  },
  {
   "cell_type": "markdown",
   "metadata": {
    "tags": [
     "AST"
    ]
   },
   "source": [
    "### Problem 1.3 (Exam Style)"
   ]
  },
  {
   "cell_type": "markdown",
   "metadata": {},
   "source": [
    "Every element in $A$ must map to an element in $B$ for it to be a function; it can only map to one. Therefore, each element in $A$ has $b$ possibilities to map to. This means that there are $b^a$ distinct possibilities for functions.\n",
    "\n",
    "$$ n(a,b) = b^a$$\n",
    "Numerical examples:\n",
    "$$n(3,3) = 3^3 = 27 \\\\\n",
    "n(2,4) = 4^2 = 16 \\\\\n",
    "n(5,3) = 3^5 = 243 $$"
   ]
  },
  {
   "cell_type": "markdown",
   "metadata": {
    "tags": [
     "AST"
    ]
   },
   "source": [
    "### Problem 1.4 (Exam Style)"
   ]
  },
  {
   "cell_type": "markdown",
   "metadata": {},
   "source": [
    "$$ n(a,b) = \\begin{cases} a! &\\mbox{if } a = b \\\\ \n",
    "0 & \\mbox{if } a \\neq b \\end{cases}$$\n",
    "Numerical examples:\n",
    "$$ n(4,4) = 24 \\\\\n",
    "n(2,4) = 0 \\\\\n",
    "n(5,3) = 0\n",
    "$$"
   ]
  },
  {
   "cell_type": "markdown",
   "metadata": {
    "tags": [
     "AST"
    ]
   },
   "source": [
    "### Problem 1.5 (Exam Style)"
   ]
  },
  {
   "cell_type": "markdown",
   "metadata": {},
   "source": [
    "There are ${M \\choose N}$ possible ways to pick email messages. For a given selection of said messages, each can be labeled either True or False, so there are $2^N$ ways for an individual selection to exist. Overall, there are $2^N * {M \\choose N}$ distinct training sets.\n",
    "<br>The number of distinct training sets of N samples that could be conceivably constructed is\n",
    "$$ {M \\choose N} \\times 2^N $$\n",
    "For N = 5 and M = 8, the number of distinct training sets of N samples that could be conceivably constructed is\n",
    "$$ {8 \\choose 5} \\times 2^5 = 1792 $$"
   ]
  },
  {
   "cell_type": "markdown",
   "metadata": {
    "tags": [
     "AST"
    ]
   },
   "source": [
    "## Part 2: Fitting Banded Linear Transformations "
   ]
  },
  {
   "cell_type": "markdown",
   "metadata": {
    "tags": [
     "AST"
    ]
   },
   "source": [
    "### Problem 2.1"
   ]
  },
  {
   "cell_type": "code",
   "execution_count": 1,
   "metadata": {
    "tags": [
     "AST"
    ]
   },
   "outputs": [],
   "source": [
    "from urllib.request import urlretrieve\n",
    "from os import path as osp\n",
    "\n",
    "\n",
    "def retrieve(file_name, semester='fall21', course='371d', homework=1):\n",
    "    if osp.exists(file_name):\n",
    "        print('Using previously downloaded file {}'.format(file_name))\n",
    "    else:\n",
    "        fmt = 'https://www2.cs.duke.edu/courses/{}/compsci{}/homework/{}/{}'\n",
    "        url = fmt.format(semester, course, homework, file_name)\n",
    "        urlretrieve(url, file_name)\n",
    "        print('Downloaded file {}'.format(file_name))\n"
   ]
  },
  {
   "cell_type": "code",
   "execution_count": 2,
   "metadata": {
    "tags": [
     "AST"
    ]
   },
   "outputs": [],
   "source": [
    "import pickle\n",
    "\n",
    "\n",
    "def read_data(file_name):\n",
    "    retrieve(file_name)\n",
    "    with open(file_name, 'rb') as file:\n",
    "        d = pickle.load(file)\n",
    "    return d"
   ]
  },
  {
   "cell_type": "code",
   "execution_count": 3,
   "metadata": {
    "tags": [
     "AST"
    ]
   },
   "outputs": [
    {
     "name": "stdout",
     "output_type": "stream",
     "text": [
      "Using previously downloaded file training.pkl\n",
      "Using previously downloaded file test.pkl\n"
     ]
    }
   ],
   "source": [
    "data = {data_set: read_data('{}.pkl'.format(data_set))\n",
    "        for data_set in ('training', 'test')}"
   ]
  },
  {
   "cell_type": "code",
   "execution_count": 4,
   "metadata": {
    "tags": [
     "AST"
    ]
   },
   "outputs": [],
   "source": [
    "x_tr, y_tr = data['training']['x'], data['training']['y']"
   ]
  },
  {
   "cell_type": "code",
   "execution_count": 5,
   "metadata": {
    "tags": [
     "AST"
    ]
   },
   "outputs": [],
   "source": [
    "import numpy as np\n",
    "\n",
    "\n",
    "def solve_system(u, v):\n",
    "    return np.linalg.lstsq(u, v, rcond=None)[0]"
   ]
  },
  {
   "cell_type": "code",
   "execution_count": 6,
   "metadata": {
    "tags": [
     "AST"
    ]
   },
   "outputs": [],
   "source": [
    "h = solve_system(x_tr, y_tr)"
   ]
  },
  {
   "cell_type": "code",
   "execution_count": 7,
   "metadata": {
    "tags": [
     "AST"
    ]
   },
   "outputs": [],
   "source": [
    "def residual(h, x, y):\n",
    "    diff = np.dot(x, h) - y\n",
    "    r = np.linalg.norm(diff) / np.sqrt(x.size)\n",
    "    return r"
   ]
  },
  {
   "cell_type": "code",
   "execution_count": 8,
   "metadata": {
    "tags": [
     "AST"
    ]
   },
   "outputs": [],
   "source": [
    "def diagonal_indicator(d, bandwidth):\n",
    "    ind = np.zeros((d, d))\n",
    "    for k in range(-bandwidth, bandwidth + 1):\n",
    "        length = d - np.abs(k)\n",
    "        ones = np.ones(length)\n",
    "        ind += np.diag(ones, k=k)\n",
    "    return ind.astype(bool)"
   ]
  },
  {
   "cell_type": "code",
   "execution_count": 9,
   "metadata": {
    "tags": [
     "AST"
    ]
   },
   "outputs": [],
   "source": [
    "def un_flatten_solution(h_flat, d, bandwidth):\n",
    "    indicator = diagonal_indicator(d, bandwidth)\n",
    "    h = np.zeros(d * d)\n",
    "    h[indicator.ravel()] = h_flat\n",
    "    h = np.reshape(h, (d, d))\n",
    "    return h"
   ]
  },
  {
   "cell_type": "code",
   "execution_count": 10,
   "metadata": {},
   "outputs": [],
   "source": [
    "# helper function that takes the two matrices X and Y \n",
    "# and a bandwidth and constructs A and y from it\n",
    "def flatten_system(x, y, bandwidth):\n",
    "    # X is a Nxd array\n",
    "    d = x.shape[1]\n",
    "    #You know how to make Y\n",
    "    y_flat = y.flatten()\n",
    "    # Make the full A using the Kronecker product.\n",
    "    A = np.kron(x, np.eye(d))\n",
    "    #Find the diagonal indicator of H and flatten it.\n",
    "    indicator = diagonal_indicator(d, bandwidth)\n",
    "    indicator_flat = indicator.flatten()\n",
    "    # Retain only the columns of A flagged for retention by the flattened indicator.\n",
    "    A_retain = A[:,indicator_flat == True]\n",
    "    return [A_retain, y_flat]"
   ]
  },
  {
   "cell_type": "code",
   "execution_count": 11,
   "metadata": {},
   "outputs": [],
   "source": [
    "def fit_banded_matrix(x, y, bandwidth):\n",
    "    # X is a Nxd array\n",
    "    d = x.shape[1]\n",
    "    rearranged_system = flatten_system(x, y, bandwidth)\n",
    "    #rearranged_system[0] is A, out[1] is y_flat\n",
    "    h_flat = solve_system(rearranged_system[0], rearranged_system[1])\n",
    "    h = un_flatten_solution(h_flat, d, bandwidth)\n",
    "    return h"
   ]
  },
  {
   "cell_type": "code",
   "execution_count": 12,
   "metadata": {},
   "outputs": [],
   "source": [
    "# Compute the best fit H for bandwidth in 0, ..., 10\n",
    "bandwidth_interval = [i for i in range (0,11)]\n",
    "# Compute the residual and append it to a list\n",
    "residuals = []\n",
    "for bandwidth in bandwidth_interval:\n",
    "    optimal_h = fit_banded_matrix(x_tr, y_tr, bandwidth)\n",
    "    residuals.append(residual(optimal_h, x_tr, y_tr))"
   ]
  },
  {
   "cell_type": "code",
   "execution_count": 13,
   "metadata": {},
   "outputs": [
    {
     "data": {
      "image/png": "[encoded data removed]",
      "text/plain": [
       "<Figure size 432x288 with 1 Axes>"
      ]
     },
     "metadata": {
      "needs_background": "light"
     },
     "output_type": "display_data"
    }
   ],
   "source": [
    "# Plotting the residuals as a function of bandwidth\n",
    "from matplotlib import pyplot as plt\n",
    "%matplotlib inline\n",
    "plt.plot(bandwidth_interval,residuals)\n",
    "plt.xlabel('Residual')\n",
    "plt.ylabel('Bandwidth')\n",
    "plt.title(\"Plot of the residuals as function of bandwidth\")\n",
    "plt.show()"
   ]
  },
  {
   "cell_type": "markdown",
   "metadata": {
    "tags": [
     "AST"
    ]
   },
   "source": [
    "### Problem 2.2 (Exam Style)"
   ]
  },
  {
   "cell_type": "markdown",
   "metadata": {},
   "source": [
    "Let's assume that the graph is not monotonically decreasing.\n",
    "Rather, we have a predictor $H_{b}$ in our equation that minimizes the training error for bandwidth b, which is greater than $H_{b-1}$, our previous minimum training error for bandwidth b-1.\n",
    "\n",
    "As we increase bandwidth, we are increasing the dimensionality of our predictor such that we have all of the same features as the previous dimension d -1, but add features/new polynomial degrees that extend to the new dimension d. Thus, there are more ways in which we can fit our function with various coefficients. At the absolute worst performance, it will set the newly-usable coefficients to 0, resulting in the same matrix as the previous iteration. The ability to set values in our H matrix to 0 means that the hypothesis space for the previous dimension d-1 is contained within the hypothesis space for the new dimension (bandwidth). In expanding the size of the hypothesis space, we can never increase our training error, and rather only stay constants or decrease towards limit 0 (as degree p approaches data points n) when a new function is introduced with a lower training error.\n",
    "\n",
    "Thus, $H_{b-1}$ is in our hypothesis space and $H_{b-1}$ < $H_{b}$. H represents the true minimum for our training error such that $H_{b}$ can not be less than $H_{b-1}$, but rather should be equal to $H_{b-1}$ as $H_{b-1}$ is in the hypothesis space. With $H_{b-1}$, the function will not increase, but rather stay the same. Thus, by contradiction, training error must monotonically decrease, as the hypothesis space for bandwidth b will always include the hypothesis spaces for bandwidth=1...b-1, and thus can not have a worse predictor that represents the true optimal matrix H for minimizing training error.\n",
    "\n",
    "The graph above therefore must be motonically decreasing."
   ]
  },
  {
   "cell_type": "markdown",
   "metadata": {
    "tags": [
     "AST"
    ]
   },
   "source": [
    "## Part 3: Learning Banded Linear Transformations "
   ]
  },
  {
   "cell_type": "markdown",
   "metadata": {
    "tags": [
     "AST"
    ]
   },
   "source": [
    "### Problem 3.1"
   ]
  },
  {
   "cell_type": "code",
   "execution_count": 16,
   "metadata": {
    "tags": [
     "AST"
    ]
   },
   "outputs": [
    {
     "data": {
      "text/plain": [
       "<matplotlib.legend.Legend at 0x7f902256da90>"
      ]
     },
     "execution_count": 16,
     "metadata": {},
     "output_type": "execute_result"
    },
    {
     "data": {
      "image/png": "[encoded data removed]",
      "text/plain": [
       "<Figure size 432x288 with 1 Axes>"
      ]
     },
     "metadata": {
      "needs_background": "light"
     },
     "output_type": "display_data"
    }
   ],
   "source": [
    "x_ts, y_ts = data['test']['x'], data['test']['y']\n",
    "\n",
    "residuals_train = []\n",
    "residuals_test = []\n",
    "\n",
    "for bandwidth in bandwidth_interval:\n",
    "    optimal_h = fit_banded_matrix(x_tr, y_tr, bandwidth)\n",
    "    residuals_train.append(residual(optimal_h, x_tr, y_tr))\n",
    "    residuals_test.append(residual(optimal_h, x_ts, y_ts))\n",
    "    \n",
    "#plotting the curves\n",
    "fig, ax = plt.subplots()\n",
    "ax.plot(bandwidth_interval, residuals_train, label = \"Training Residual\")\n",
    "ax.plot(bandwidth_interval, residuals_test,  label = \"Testing Residual\" )\n",
    "plt.xlabel('Residual')\n",
    "plt.ylabel('Bandwidth')\n",
    "plt.title(\"Plot of the residuals as function of bandwidth\")\n",
    "plt.legend()"
   ]
  },
  {
   "cell_type": "markdown",
   "metadata": {
    "tags": [
     "AST"
    ]
   },
   "source": [
    "### Problem 3.2 (Exam Style)"
   ]
  },
  {
   "cell_type": "markdown",
   "metadata": {},
   "source": [
    "A bandwidth of 3 was likely used to generate the data because it is the optimal bandwidth for the testing data. The residual for the testing data does not monotonically decrease, because as the bandwidth increases, H overfits to the training data and becomes less accurate on the testing data as it models less and less of the actually significant distribution. There is a cusp on the graph when bandwidth is equal to 3. The residuals decrease until bandwidth increases to 3, and decreases after it goes beyond 3, which illustrates that 3 is the optimal bandwidth since we want to avoid overfitting with an overly large hypothesis space (modeling random fluctuations) and underfitting with an overly small one (modeling the deterministic part poorly).\n",
    "\n",
    "In increasing bandwidth, we increase our hypothesis space to includes predictors that can model more and more complex relationships. However, in allowing for more predictors to be considered, the optimal predictor for testing data may become less likely to selected. Predictors that minimize training error to prevail, such that increasing dimensionality incentivizes predictors to account for both the signal and noise (minimize bias). However, these large polynomials have great variance, as adding just one new data point will often create a large residual and would require an entirely different predictor to model it. Thus, when applied to new data points in the test set, we find that these complex functions may not generalize well, and thus cause test performance to worsen. Meanwhile, a less complex polynomial that may be in the hypothesis space with bandwidth 3, may only capture the signal of the training data and perform well (but not too perfect) while allowing for some, small residuals/bias in the training data, but its simpler nature allows for a lower variance such that it generalizes well to the testing data"
   ]
  }
 ],
 "metadata": {
  "kernelspec": {
   "display_name": "Python 3",
   "language": "python",
   "name": "python3"
  },
  "language_info": {
   "codemirror_mode": {
    "name": "ipython",
    "version": 3
   },
   "file_extension": ".py",
   "mimetype": "text/x-python",
   "name": "python",
   "nbconvert_exporter": "python",
   "pygments_lexer": "ipython3",
   "version": "3.8.8"
  },
  "pycharm": {
   "stem_cell": {
    "cell_type": "raw",
    "metadata": {
     "collapsed": false
    },
    "source": []
   }
  }
 },
 "nbformat": 4,
 "nbformat_minor": 2
}
