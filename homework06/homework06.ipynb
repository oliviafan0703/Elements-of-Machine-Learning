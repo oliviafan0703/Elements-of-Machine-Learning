{
 "cells": [
  {
   "cell_type": "markdown",
   "metadata": {
    "tags": [
     "AST"
    ]
   },
   "source": [
    "<style>\n",
    "    @media print{\n",
    "        body {\n",
    "            position:relative !important;\n",
    "        }\n",
    "        .celltag_new_page {\n",
    "            page-break-before: always !important;\n",
    "        }\n",
    "    }\n",
    "</style>\n",
    "# COMPSCI 371D Homework 6"
   ]
  },
  {
   "cell_type": "markdown",
   "metadata": {},
   "source": [
    "Olivia Fan, Frankie Willard, Sam Carpenter"
   ]
  },
  {
   "cell_type": "markdown",
   "metadata": {
    "tags": [
     "AT"
    ]
   },
   "source": [
    "### Problem 0 (3 points)"
   ]
  },
  {
   "cell_type": "markdown",
   "metadata": {
    "tags": [
     "AST"
    ]
   },
   "source": [
    "## Preamble: The MNIST Dataset  "
   ]
  },
  {
   "cell_type": "code",
   "execution_count": 1,
   "metadata": {
    "tags": [
     "AST"
    ]
   },
   "outputs": [],
   "source": [
    "import numpy as np\n",
    "from sklearn import datasets\n",
    "from sklearn.model_selection import train_test_split\n",
    "from sklearn.preprocessing import StandardScaler\n",
    "from matplotlib import pyplot as plt\n",
    "%matplotlib inline"
   ]
  },
  {
   "cell_type": "code",
   "execution_count": 2,
   "metadata": {
    "tags": [
     "AST"
    ]
   },
   "outputs": [],
   "source": [
    "def standardize(data):\n",
    "    scaler = StandardScaler().fit(data)\n",
    "    data = scaler.transform(data).astype(np.float32)\n",
    "    return data, scaler.mean_, scaler.scale_"
   ]
  },
  {
   "cell_type": "code",
   "execution_count": 3,
   "metadata": {
    "tags": [
     "AST"
    ]
   },
   "outputs": [],
   "source": [
    "def load_mnist():\n",
    "    digits = datasets.load_digits()\n",
    "    n, shape = digits.images.shape[0], digits.images.shape[1:]\n",
    "    xs = digits.images.reshape((n, -1)).astype(np.float32)\n",
    "    max_pixel = np.max(xs)\n",
    "    xs, mean, std = standardize(xs)\n",
    "    ys = digits.target.astype(np.uint8)\n",
    "    return xs, ys, mean, std, max_pixel, shape"
   ]
  },
  {
   "cell_type": "code",
   "execution_count": 4,
   "metadata": {
    "tags": [
     "AST"
    ]
   },
   "outputs": [],
   "source": [
    "def data_split(xs, ys, test_fraction=0.5):\n",
    "    x_train, x_test, y_train, y_test = train_test_split(\n",
    "        xs, ys, test_size=test_fraction, shuffle=True)\n",
    "    train = {'x': x_train, 'y': y_train}\n",
    "    test = {'x': x_test, 'y': y_test}\n",
    "    data = {'train': train, 'test': test}\n",
    "    return data"
   ]
  },
  {
   "cell_type": "code",
   "execution_count": 5,
   "metadata": {
    "tags": [
     "AST"
    ]
   },
   "outputs": [],
   "source": [
    "def x_to_image(x):\n",
    "    x = np.round(x * pixel_std + pixel_mean)\n",
    "    x = np.clip(x * 255. / pixel_max, 0., 255.).astype(np.uint8)\n",
    "    return np.reshape(x, image_shape)"
   ]
  },
  {
   "cell_type": "code",
   "execution_count": 6,
   "metadata": {
    "tags": [
     "AST"
    ]
   },
   "outputs": [],
   "source": [
    "def show_random_images(xs, ys, rows=3, columns=6):\n",
    "    rng = np.random.default_rng()\n",
    "    indices = rng.integers(low=0, high=len(ys), size=rows * columns)\n",
    "    plt.figure(figsize=(2 * columns, 2.1 * rows), tight_layout=True)\n",
    "    for plot, index in enumerate(indices):\n",
    "        image = x_to_image(xs[index])\n",
    "        plt.subplot(rows, columns, plot + 1)\n",
    "        plt.imshow(image, cmap='gray')\n",
    "        plt.axis('off')\n",
    "        plt.title(ys[index], fontsize=18)\n",
    "    plt.show()"
   ]
  },
  {
   "cell_type": "code",
   "execution_count": 7,
   "metadata": {
    "tags": [
     "AST"
    ]
   },
   "outputs": [
    {
     "data": {
      "image/png": "[encoded data removed]",
      "text/plain": [
       "<Figure size 864x453.6 with 18 Axes>"
      ]
     },
     "metadata": {
      "needs_background": "light"
     },
     "output_type": "display_data"
    }
   ],
   "source": [
    "data_points, digit_labels, pixel_mean, pixel_std, pixel_max, image_shape = load_mnist()\n",
    "show_random_images(data_points, digit_labels)\n",
    "digit_dataset = data_split(data_points, digit_labels)"
   ]
  },
  {
   "cell_type": "markdown",
   "metadata": {
    "tags": [
     "AST"
    ]
   },
   "source": [
    "## Preamble: Three Classifiers"
   ]
  },
  {
   "cell_type": "code",
   "execution_count": 8,
   "metadata": {
    "tags": [
     "AST"
    ]
   },
   "outputs": [],
   "source": [
    "from sklearn.linear_model import LogisticRegression\n",
    "from sklearn.svm import SVC\n",
    "\n",
    "tolerance = 1.e-8\n",
    "LogReg = LogisticRegression(\n",
    "    C=1, solver='lbfgs', tol=tolerance,\n",
    "    max_iter=100000, random_state=0)\n",
    "LinearSvm = SVC(kernel='linear', tol=tolerance)\n",
    "RbfSvm = SVC(kernel='rbf', tol=tolerance)"
   ]
  },
  {
   "cell_type": "markdown",
   "metadata": {
    "tags": [
     "AST"
    ]
   },
   "source": [
    "## Part 1: Binary Classifiers"
   ]
  },
  {
   "cell_type": "markdown",
   "metadata": {
    "tags": [
     "AST"
    ]
   },
   "source": [
    "### Problem 1.1"
   ]
  },
  {
   "cell_type": "code",
   "execution_count": 9,
   "metadata": {
    "tags": [
     "AST"
    ]
   },
   "outputs": [],
   "source": [
    "from statistics import mean, stdev\n",
    "\n",
    "def evaluate(h, data):\n",
    "    def error_rate(predictor, samples):\n",
    "        x, y = samples['x'], samples['y']\n",
    "        return (1 - predictor.score(x, y)) * 100\n",
    "\n",
    "    e_train = error_rate(h, data['train'])\n",
    "    e_test = error_rate(h, data['test'])\n",
    "    return e_train, e_test"
   ]
  },
  {
   "cell_type": "code",
   "execution_count": 10,
   "metadata": {},
   "outputs": [],
   "source": [
    "def evaluate_classifiers(xs, ys):\n",
    "    log_error = []\n",
    "    lin_error = []\n",
    "    rbf_error = []\n",
    "    #compute 10 random splits of the data in xs and ys\n",
    "    for _ in range (0,10):\n",
    "        split = data_split(xs,ys)\n",
    "        train = split['train']\n",
    "        test = split['test']\n",
    "        \n",
    "        #train the classifier on the training portion of the split\n",
    "        log_classifier = LogReg.fit(train['x'], train['y'])\n",
    "        lin_svm = LinearSvm.fit(train['x'], train['y'])\n",
    "        rbf_svm = RbfSvm.fit(train['x'], train['y'])\n",
    "        \n",
    "        log_error.append(evaluate(log_classifier, split))\n",
    "        lin_error.append(evaluate(lin_svm, split))\n",
    "        rbf_error.append(evaluate(rbf_svm, split))\n",
    "        \n",
    "    classifiers = [\"Logistic\", \"Linear SVM\", \"RBF SVM\"]\n",
    "    for x in classifiers:\n",
    "        errors = eval(x[:3].lower() + \"_error\")\n",
    "        train_error = [error[0] for error in errors]\n",
    "        test_error = [error[1] for error in errors]\n",
    "        print(\"Error statistics for the {my_class} classifier (percent):\".format(my_class=x))\n",
    "        print(\"Training: min {min}, max {max}, mean {mean}, std {std}\".format\n",
    "          (min=round(min(train_error),3),max=round(max(train_error),3),mean=round(mean(train_error),3), std=round(stdev(train_error),3)))\n",
    "        print(\"Testing: min {min}, max {max}, mean {mean}, std {std}\".format\n",
    "          (min=round(min(test_error),3),max=round(max(test_error),3),mean=round(mean(test_error),3), std=round(stdev(test_error),3)))\n",
    "        print()        "
   ]
  },
  {
   "cell_type": "code",
   "execution_count": 11,
   "metadata": {},
   "outputs": [],
   "source": [
    "#The subset is the set of all samples whose label is either 3 or 7.\n",
    "indices = [i for i, x in enumerate(digit_labels) if x == 3 or x == 7]\n",
    "pair_data_points = [data_points[i] for i in indices]\n",
    "pair_labels = [digit_labels[i] for i in indices]"
   ]
  },
  {
   "cell_type": "code",
   "execution_count": 12,
   "metadata": {},
   "outputs": [
    {
     "data": {
      "image/png": "[encoded data removed]",
      "text/plain": [
       "<Figure size 864x453.6 with 18 Axes>"
      ]
     },
     "metadata": {
      "needs_background": "light"
     },
     "output_type": "display_data"
    }
   ],
   "source": [
    "show_random_images(pair_data_points, pair_labels)"
   ]
  },
  {
   "cell_type": "code",
   "execution_count": 25,
   "metadata": {},
   "outputs": [
    {
     "name": "stdout",
     "output_type": "stream",
     "text": [
      "Error statistics for the Logistic classifier (percent):\n",
      "Training: min 0.0, max 0.0, mean 0.0, std 0.0\n",
      "Testing: min 0.0, max 1.105, mean 0.442, std 0.349\n",
      "\n",
      "Error statistics for the Linear SVM classifier (percent):\n",
      "Training: min 0.0, max 0.0, mean 0.0, std 0.0\n",
      "Testing: min 0.0, max 1.105, mean 0.387, std 0.373\n",
      "\n",
      "Error statistics for the RBF SVM classifier (percent):\n",
      "Training: min 0.0, max 0.0, mean 0.0, std 0.0\n",
      "Testing: min 0.0, max 1.657, mean 0.884, std 0.534\n",
      "\n"
     ]
    }
   ],
   "source": [
    "evaluate_classifiers(pair_data_points, pair_labels)"
   ]
  },
  {
   "cell_type": "markdown",
   "metadata": {
    "tags": [
     "AST"
    ]
   },
   "source": [
    "### Problem 1.2 (Exam Style)"
   ]
  },
  {
   "cell_type": "markdown",
   "metadata": {},
   "source": [
    "All the training sets are linearly separable. As shown above, the maximum training error is 0, therefore the training error is 0 on all training sets. Therefore, the first two linear classifers are able to separate the training sets, and all of the training sets in our ten splits are linearly separable. Because of the small number of samples in the training set, with three significant figures, a value of 0 is not a result of rounding, but means exact zero training error."
   ]
  },
  {
   "cell_type": "markdown",
   "metadata": {
    "tags": [
     "AST"
    ]
   },
   "source": [
    "### Problem 1.3 (Exam Style)"
   ]
  },
  {
   "cell_type": "markdown",
   "metadata": {},
   "source": [
    "These experiments are not conclusive, because from running the experiment for multiple times, it is shown that RBF SVM has high variations in test error rate compared to linear SVM, with respect to both standard deviation and the gap between the results using the RBF and linear SVM predictors.\n",
    "<br> This significant variation might be due to the small number of samples of the training and test set, which leads to more randomness in the training and testing results. For example, two results might both have zero risk but the boundaries could still be placed differently."
   ]
  },
  {
   "cell_type": "markdown",
   "metadata": {
    "tags": [
     "AST"
    ]
   },
   "source": [
    "### Problem 1.4"
   ]
  },
  {
   "cell_type": "code",
   "execution_count": 14,
   "metadata": {},
   "outputs": [],
   "source": [
    "odd_indices = [i for i, x in enumerate(digit_labels) if x % 2 != 0]\n",
    "parity_labels = np.zeros(len(digit_labels))\n",
    "parity_labels[odd_indices] = 1"
   ]
  },
  {
   "cell_type": "code",
   "execution_count": 15,
   "metadata": {},
   "outputs": [
    {
     "name": "stdout",
     "output_type": "stream",
     "text": [
      "[[0. 0.]\n",
      " [1. 1.]\n",
      " [2. 0.]\n",
      " [3. 1.]\n",
      " [4. 0.]\n",
      " [5. 1.]\n",
      " [6. 0.]\n",
      " [7. 1.]\n",
      " [8. 0.]\n",
      " [9. 1.]\n",
      " [0. 0.]\n",
      " [1. 1.]\n",
      " [2. 0.]\n",
      " [3. 1.]\n",
      " [4. 0.]\n",
      " [5. 1.]\n",
      " [6. 0.]\n",
      " [7. 1.]\n",
      " [8. 0.]\n",
      " [9. 1.]]\n"
     ]
    }
   ],
   "source": [
    "side_by_side = np.concatenate((digit_labels.reshape(len(digit_labels),1), parity_labels.reshape(len(parity_labels),1)),1)\n",
    "print(side_by_side[:20])"
   ]
  },
  {
   "cell_type": "code",
   "execution_count": 16,
   "metadata": {},
   "outputs": [
    {
     "data": {
      "image/png": "[encoded data removed]",
      "text/plain": [
       "<Figure size 864x453.6 with 18 Axes>"
      ]
     },
     "metadata": {
      "needs_background": "light"
     },
     "output_type": "display_data"
    }
   ],
   "source": [
    "show_random_images(data_points, parity_labels)"
   ]
  },
  {
   "cell_type": "code",
   "execution_count": 17,
   "metadata": {},
   "outputs": [
    {
     "name": "stdout",
     "output_type": "stream",
     "text": [
      "Error statistics for the Logistic classifier (percent):\n",
      "Training: min 5.345, max 7.35, mean 6.214, std 0.567\n",
      "Testing: min 7.786, max 10.011, mean 8.865, std 0.783\n",
      "\n",
      "Error statistics for the Linear SVM classifier (percent):\n",
      "Training: min 4.343, max 7.127, mean 5.757, std 0.744\n",
      "Testing: min 8.343, max 10.122, mean 9.132, std 0.592\n",
      "\n",
      "Error statistics for the RBF SVM classifier (percent):\n",
      "Training: min 0.0, max 0.668, mean 0.356, std 0.18\n",
      "Testing: min 1.557, max 3.115, mean 2.291, std 0.504\n",
      "\n"
     ]
    }
   ],
   "source": [
    "evaluate_classifiers(data_points, parity_labels)"
   ]
  },
  {
   "cell_type": "markdown",
   "metadata": {
    "tags": [
     "AST"
    ]
   },
   "source": [
    "### Problem 1.5 (Exam Style)"
   ]
  },
  {
   "cell_type": "markdown",
   "metadata": {},
   "source": [
    "The RBF SVM classifier does the best, because there is likely to be a week association between the appearance of digits to their parity (with the apperance being independent of whether the digits are even or odd), therefore linear classifiers might not suffice. The decision boundary between odd and even parities is likely to be complex, which can be handled much better than the RBF SVM classifier as compared to the linear classifiers."
   ]
  },
  {
   "cell_type": "markdown",
   "metadata": {
    "tags": [
     "AST"
    ]
   },
   "source": [
    "### Problem 1.6 (Exam Style)"
   ]
  },
  {
   "cell_type": "markdown",
   "metadata": {},
   "source": [
    "The best performer overfits, because the mean test error is larger than the mean training error. The training error is low, while the testing error is much higher."
   ]
  },
  {
   "cell_type": "markdown",
   "metadata": {
    "tags": [
     "AST"
    ]
   },
   "source": [
    "## Part 2: Margins "
   ]
  },
  {
   "cell_type": "code",
   "execution_count": 18,
   "metadata": {
    "tags": [
     "AST"
    ]
   },
   "outputs": [],
   "source": [
    "def hyperplane(h):\n",
    "    return h.intercept_, h.coef_[0]"
   ]
  },
  {
   "cell_type": "markdown",
   "metadata": {
    "tags": [
     "AST"
    ]
   },
   "source": [
    "### Problem 2.1"
   ]
  },
  {
   "cell_type": "code",
   "execution_count": 19,
   "metadata": {
    "tags": [
     "AST"
    ]
   },
   "outputs": [],
   "source": [
    "def show_margins(m, ref_margin, title, font_size=18):\n",
    "    plt.figure(figsize=(15, 3), tight_layout=True)\n",
    "    edges = np.logspace(-2, np.log10(max(m)), 50)\n",
    "    plt.hist(m, bins=edges, rwidth=0.9)\n",
    "    plt.axvline(ref_margin, color='r', lw=3.)\n",
    "    title = 'Margin distribution for the {}'.format(title)\n",
    "    plt.title(title, fontsize=font_size)\n",
    "    plt.xticks(fontsize=font_size)\n",
    "    plt.yticks(fontsize=font_size)\n",
    "    plt.show()"
   ]
  },
  {
   "cell_type": "code",
   "execution_count": 20,
   "metadata": {},
   "outputs": [],
   "source": [
    "def margins(data, h):\n",
    "    b, w = hyperplane(h)\n",
    "\n",
    "    #||w|| = 1/u\n",
    "    ref_margin = 1 / np.linalg.norm(w)\n",
    "\n",
    "    #Y_hat\n",
    "    \n",
    "    #euclidean distance\n",
    "\n",
    "    #transform from {0,1} to {-1,1}\n",
    "    y_pred = 2*h.predict(data)-1\n",
    "\n",
    "    u_values = [pred * ((np.dot(sample, w) + b) * ref_margin) for sample, pred in zip(data, y_pred)]\n",
    "\n",
    "    m = np.array(np.ravel(u_values))\n",
    "    #ref_margin\n",
    "\n",
    "    return m, ref_margin"
   ]
  },
  {
   "cell_type": "code",
   "execution_count": 21,
   "metadata": {},
   "outputs": [],
   "source": [
    "def show_all_classifier_margins(dataset):\n",
    "    #LogReg and LinearSvm\n",
    "    #train and test\n",
    "    for classifier_string in [\"LogReg\", \"LinearSvm\"]:\n",
    "        classifier = eval(classifier_string)\n",
    "        h = classifier.fit(dataset['train']['x'], dataset['train']['y'])\n",
    "        for split in [\"train\", \"test\"]:\n",
    "            my_data = dataset[split]\n",
    "            m, ref_margin = margins(my_data['x'], h)\n",
    "            title = str(classifier_string) + \" \" + split\n",
    "            show_margins(m, ref_margin, title)"
   ]
  },
  {
   "cell_type": "code",
   "execution_count": 22,
   "metadata": {},
   "outputs": [
    {
     "data": {
      "image/png": "[encoded data removed]",
      "text/plain": [
       "<Figure size 1080x216 with 1 Axes>"
      ]
     },
     "metadata": {
      "needs_background": "light"
     },
     "output_type": "display_data"
    },
    {
     "data": {
      "image/png": "[encoded data removed]",
      "text/plain": [
       "<Figure size 1080x216 with 1 Axes>"
      ]
     },
     "metadata": {
      "needs_background": "light"
     },
     "output_type": "display_data"
    },
    {
     "data": {
      "image/png": "[encoded data removed]",
      "text/plain": [
       "<Figure size 1080x216 with 1 Axes>"
      ]
     },
     "metadata": {
      "needs_background": "light"
     },
     "output_type": "display_data"
    },
    {
     "data": {
      "image/png": "[encoded data removed]",
      "text/plain": [
       "<Figure size 1080x216 with 1 Axes>"
      ]
     },
     "metadata": {
      "needs_background": "light"
     },
     "output_type": "display_data"
    }
   ],
   "source": [
    "pair_dataset = data_split(pair_data_points, pair_labels)\n",
    "show_all_classifier_margins(pair_dataset)"
   ]
  },
  {
   "cell_type": "markdown",
   "metadata": {
    "tags": [
     "AST"
    ]
   },
   "source": [
    "### Problem 2.2 (Exam Style)"
   ]
  },
  {
   "cell_type": "markdown",
   "metadata": {},
   "source": [
    "The data margins for the SVM classifiers seem to be more consistent at staying away from the reference margin, while the logistic regression classfier behave less so. The logistic regression classifier tends to have more data points closer to the reference margin.\n",
    "<br>This is because SVM classifiers enforce the hinge loss (which incurs a penalty not only for classifying the wrong side, but also penalize the points that fall closely around the margin even if the sample is classified correctly), and therefore a wider reference margin."
   ]
  },
  {
   "cell_type": "markdown",
   "metadata": {
    "tags": [
     "AST"
    ]
   },
   "source": [
    "### Problem 2.3"
   ]
  },
  {
   "cell_type": "code",
   "execution_count": 23,
   "metadata": {},
   "outputs": [
    {
     "data": {
      "image/png": "[encoded data removed]",
      "text/plain": [
       "<Figure size 1080x216 with 1 Axes>"
      ]
     },
     "metadata": {
      "needs_background": "light"
     },
     "output_type": "display_data"
    },
    {
     "data": {
      "image/png": "[encoded data removed]",
      "text/plain": [
       "<Figure size 1080x216 with 1 Axes>"
      ]
     },
     "metadata": {
      "needs_background": "light"
     },
     "output_type": "display_data"
    },
    {
     "data": {
      "image/png": "[encoded data removed]",
      "text/plain": [
       "<Figure size 1080x216 with 1 Axes>"
      ]
     },
     "metadata": {
      "needs_background": "light"
     },
     "output_type": "display_data"
    },
    {
     "data": {
      "image/png": "[encoded data removed]",
      "text/plain": [
       "<Figure size 1080x216 with 1 Axes>"
      ]
     },
     "metadata": {
      "needs_background": "light"
     },
     "output_type": "display_data"
    }
   ],
   "source": [
    "parity_dataset = data_split(data_points, parity_labels)\n",
    "show_all_classifier_margins(parity_dataset)"
   ]
  },
  {
   "cell_type": "markdown",
   "metadata": {
    "tags": [
     "AST"
    ]
   },
   "source": [
    "### Problem 2.4 (Exam Style)"
   ]
  },
  {
   "cell_type": "markdown",
   "metadata": {},
   "source": [
    "The bin that includes the SVM classifier reference margin has a lot of values (a large count of data points), because the hinge loss function pushes correctly classfied samples more towards the reference margin by moving and extending the margin to be as large as possible. \n",
    "<br> Once a data point is correctly classified, moving it further into the correct decision region does not change the hinge loss because the hinge loss will just be zero. Therefore the data points accumulate at the margin as shown by the bin of a large count of data points in the histogram."
   ]
  },
  {
   "cell_type": "markdown",
   "metadata": {
    "tags": [
     "AST"
    ]
   },
   "source": [
    "## Part 3: Multiclass Classifiers"
   ]
  },
  {
   "cell_type": "markdown",
   "metadata": {
    "tags": [
     "AST"
    ]
   },
   "source": [
    "### Problem 3.1 (Partially Exam Style)"
   ]
  },
  {
   "cell_type": "code",
   "execution_count": 24,
   "metadata": {},
   "outputs": [
    {
     "name": "stdout",
     "output_type": "stream",
     "text": [
      "Error statistics for the Logistic classifier (percent):\n",
      "Training: min 0.0, max 0.334, mean 0.111, std 0.117\n",
      "Testing: min 2.892, max 5.117, mean 4.004, std 0.64\n",
      "\n",
      "Error statistics for the Linear SVM classifier (percent):\n",
      "Training: min 0.0, max 0.0, mean 0.0, std 0.0\n",
      "Testing: min 1.78, max 4.004, mean 2.803, std 0.697\n",
      "\n",
      "Error statistics for the RBF SVM classifier (percent):\n",
      "Training: min 0.223, max 0.557, mean 0.423, std 0.137\n",
      "Testing: min 1.669, max 3.448, mean 2.414, std 0.567\n",
      "\n"
     ]
    }
   ],
   "source": [
    "evaluate_classifiers(data_points, digit_labels)"
   ]
  },
  {
   "cell_type": "markdown",
   "metadata": {},
   "source": [
    "Yes, all of the data splits are linearly separable because as shown above, the linear SVM classifier consistently has a maximum of zero risk, therefore zero risk across all the samples. \n",
    "\n",
    "<br> Although the logistic regression classifier does not always achieve zero risk, it is likely because it does not converge fully but not due to the linear separability of the data (as the linear SVM is already able to achieve zero risk rate). There are signs of lack of convergence (some warnings previously displayed), which could potentially be fixed by tuning hyperparameters (including reducing the inverse of regularization strength C or updating the solver to be first order such as hessian-approx), but these come with potential tradeoffs in the bias-variance tradeoff as well as computation time."
   ]
  },
  {
   "cell_type": "markdown",
   "metadata": {},
   "source": [
    "The RBF SVM classifier does the best, because it has the smallest testing error, however, this conclusion is not reliable it does better only by a small margin over the linear SVM classifier."
   ]
  },
  {
   "cell_type": "code",
   "execution_count": null,
   "metadata": {},
   "outputs": [],
   "source": []
  }
 ],
 "metadata": {
  "kernelspec": {
   "display_name": "Python 3",
   "language": "python",
   "name": "python3"
  },
  "language_info": {
   "codemirror_mode": {
    "name": "ipython",
    "version": 3
   },
   "file_extension": ".py",
   "mimetype": "text/x-python",
   "name": "python",
   "nbconvert_exporter": "python",
   "pygments_lexer": "ipython3",
   "version": "3.8.8"
  },
  "pycharm": {
   "stem_cell": {
    "cell_type": "raw",
    "metadata": {
     "collapsed": false
    },
    "source": []
   }
  }
 },
 "nbformat": 4,
 "nbformat_minor": 4
}
